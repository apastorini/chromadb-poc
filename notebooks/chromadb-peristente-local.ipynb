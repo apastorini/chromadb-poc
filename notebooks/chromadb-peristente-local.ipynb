{
 "cells": [
  {
   "cell_type": "code",
   "execution_count": 1,
   "id": "initial_id",
   "metadata": {
    "collapsed": true,
    "ExecuteTime": {
     "end_time": "2024-04-06T02:37:16.307899Z",
     "start_time": "2024-04-06T02:37:15.972841Z"
    }
   },
   "outputs": [
    {
     "name": "stderr",
     "output_type": "stream",
     "text": [
      "/Users/andrespastorini/PycharmProjects/chromaDb-Duck/venv/lib/python3.9/site-packages/urllib3/__init__.py:35: NotOpenSSLWarning: urllib3 v2 only supports OpenSSL 1.1.1+, currently the 'ssl' module is compiled with 'LibreSSL 2.8.3'. See: https://github.com/urllib3/urllib3/issues/3020\n",
      "  warnings.warn(\n"
     ]
    }
   ],
   "source": [
    "import chromadb"
   ]
  },
  {
   "cell_type": "code",
   "outputs": [],
   "source": [
    "#you can configure Chroma to save and load from your local machine. Data will be persisted#automatically and loaded on start (if it exists).\n",
    "\n",
    "client = chromadb.PersistentClient(path=\"./db\")"
   ],
   "metadata": {
    "collapsed": false,
    "ExecuteTime": {
     "end_time": "2024-04-06T02:37:35.609476Z",
     "start_time": "2024-04-06T02:37:35.562755Z"
    }
   },
   "id": "6db9311734d30cb6",
   "execution_count": 3
  },
  {
   "cell_type": "code",
   "outputs": [
    {
     "data": {
      "text/plain": "1712371117665142000"
     },
     "execution_count": 7,
     "metadata": {},
     "output_type": "execute_result"
    }
   ],
   "source": [
    "client.heartbeat() \n",
    "# returns a nanosecond heartbeat. Useful for making sure the client remains connected.\n",
    "#client.reset() \n",
    "# Empties and completely resets the database. ⚠️ This is destructive and not reversible."
   ],
   "metadata": {
    "collapsed": false,
    "ExecuteTime": {
     "end_time": "2024-04-06T02:38:37.667807Z",
     "start_time": "2024-04-06T02:38:37.664083Z"
    }
   },
   "id": "89021c32aa9d41a1",
   "execution_count": 7
  },
  {
   "cell_type": "code",
   "outputs": [],
   "source": [
    "collection = client.create_collection(name=\"my_collection\")\n"
   ],
   "metadata": {
    "collapsed": false,
    "ExecuteTime": {
     "end_time": "2024-04-06T02:40:52.693827Z",
     "start_time": "2024-04-06T02:40:52.675366Z"
    }
   },
   "id": "e38daa4fe29f674e",
   "execution_count": 9
  },
  {
   "cell_type": "code",
   "outputs": [],
   "source": [
    "collection.add(\n",
    "    documents=[\"This is a document\", \"This is another document\"],\n",
    "    metadatas=[{\"source\": \"my_source\"}, {\"source\": \"my_source\"}],\n",
    "    ids=[\"id1\", \"id2\"]\n",
    ")"
   ],
   "metadata": {
    "collapsed": false,
    "ExecuteTime": {
     "end_time": "2024-04-06T02:41:06.014199Z",
     "start_time": "2024-04-06T02:41:05.025274Z"
    }
   },
   "id": "c3025b2f3ca5a42c",
   "execution_count": 10
  },
  {
   "cell_type": "code",
   "outputs": [
    {
     "name": "stdout",
     "output_type": "stream",
     "text": [
      "{'ids': [['id1', 'id2']], 'distances': [[0.7110875747384663, 1.0109348678517138]], 'metadatas': [[{'source': 'my_source'}, {'source': 'my_source'}]], 'embeddings': None, 'documents': [['This is a document', 'This is another document']], 'uris': None, 'data': None}\n"
     ]
    }
   ],
   "source": [
    "results = collection.query(\n",
    "    query_texts=[\"This is a query document\"],\n",
    "    n_results=2\n",
    ")\n",
    "print(results)"
   ],
   "metadata": {
    "collapsed": false,
    "ExecuteTime": {
     "end_time": "2024-04-06T02:41:19.118878Z",
     "start_time": "2024-04-06T02:41:18.936560Z"
    }
   },
   "id": "ca2286c28e8e6f0d",
   "execution_count": 11
  },
  {
   "cell_type": "code",
   "outputs": [],
   "source": [],
   "metadata": {
    "collapsed": false
   },
   "id": "e0e1a330c272fc2"
  }
 ],
 "metadata": {
  "kernelspec": {
   "display_name": "Python 3",
   "language": "python",
   "name": "python3"
  },
  "language_info": {
   "codemirror_mode": {
    "name": "ipython",
    "version": 2
   },
   "file_extension": ".py",
   "mimetype": "text/x-python",
   "name": "python",
   "nbconvert_exporter": "python",
   "pygments_lexer": "ipython2",
   "version": "2.7.6"
  }
 },
 "nbformat": 4,
 "nbformat_minor": 5
}
